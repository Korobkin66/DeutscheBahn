{
 "cells": [
  {
   "cell_type": "code",
   "execution_count": 37,
   "id": "556e9dd0",
   "metadata": {},
   "outputs": [
    {
     "name": "stdout",
     "output_type": "stream",
     "text": [
      "Активные Spark сессии: http://localhost:4040/jobs\n"
     ]
    }
   ],
   "source": [
    "from pyspark.sql import SparkSession\n",
    "from pyspark.sql import Row\n",
    "import pyspark.sql.functions as F\n",
    "import pandas as pd\n",
    "import datetime\n",
    "\n",
    "\n",
    "spark = SparkSession \\\n",
    "            .builder \\\n",
    "            .config(\"spark.master\", \"local\") \\\n",
    "            .config('spark.executor.cores', '8')\\\n",
    "            .config('spark.executor.memory', '2g')\\\n",
    "            .config('spark.driver.memory', '2g')\\\n",
    "            .config('spark.dynamicAllocation.minExecutors', '4')\\\n",
    "            .appName(\"spark_halltape\") \\\n",
    "    .getOrCreate()\n",
    "\n",
    "\n",
    "print(\"Активные Spark сессии:\", 'http://localhost:4040/jobs')"
   ]
  },
  {
   "cell_type": "code",
   "execution_count": 1,
   "id": "e5f60e5f-66c7-4668-92e5-6928f64060b7",
   "metadata": {},
   "outputs": [
    {
     "ename": "NameError",
     "evalue": "name 'spark' is not defined",
     "output_type": "error",
     "traceback": [
      "\u001b[0;31m---------------------------------------------------------------------------\u001b[0m",
      "\u001b[0;31mNameError\u001b[0m                                 Traceback (most recent call last)",
      "Cell \u001b[0;32mIn[1], line 1\u001b[0m\n\u001b[0;32m----> 1\u001b[0m \u001b[43mspark\u001b[49m\u001b[38;5;241m.\u001b[39mstop()\n",
      "\u001b[0;31mNameError\u001b[0m: name 'spark' is not defined"
     ]
    }
   ],
   "source": [
    "spark.stop()"
   ]
  },
  {
   "cell_type": "code",
   "execution_count": 143,
   "id": "588fbcaa-ea81-4c64-b263-0bf11cb70a3f",
   "metadata": {},
   "outputs": [
    {
     "name": "stdout",
     "output_type": "stream",
     "text": [
      "2024-07-01\n",
      "2024-07-02\n",
      "2024-07-03\n",
      "2024-07-04\n",
      "2024-07-05\n",
      "2024-07-06\n",
      "2024-07-07\n",
      "2024-07-08\n",
      "2024-07-09\n",
      "2024-07-10\n"
     ]
    }
   ],
   "source": [
    "PATH = '/home/jovyan/source'\n",
    "\n",
    "def debit_card(date):\n",
    "    card = spark.read.csv(f\"{PATH}/card.csv\", header=True, sep=\";\")\\\n",
    "                .where(f''' load_date = \"{date}\" ''')\n",
    "    \n",
    "    status_card = spark.read.csv(f\"{PATH}/Status_card.csv\", header=True, sep=\";\")\\\n",
    "                        .where(f''' load_date = \"{date}\"  ''')\n",
    "    \n",
    "    transactions = spark.read.csv(f\"{PATH}/transactions.csv\", header=True, sep=\";\")\\\n",
    "                        .where(f''' load_date = \"{date}\"  ''')\n",
    "    \n",
    "    \n",
    "    first_trx = transactions.groupBy('card_num')\\\n",
    "                            .agg(F.min('transaction_datetime').alias('transaction_datetime'))\n",
    "    \n",
    "    \n",
    "    first_trx_info = first_trx.join(transactions, ['card_num','transaction_datetime'], 'inner')\n",
    "    \n",
    "    dt_trx = first_trx_info.select('card_num', 'amount', '*')\n",
    "    df_st = status_card.select('card_num', 'card_num_md5', 'status')\n",
    "    \n",
    "    result_df = dt_trx\\\n",
    "                    .join(df_st, \"card_num\", \"inner\")\\\n",
    "                    .join(card, \"card_num_md5\", \"right\")\\\n",
    "                    .drop('card_num_md5')\n",
    "    \n",
    "    final_df = result_df\\\n",
    "                    .where(''' card_num IS NOT NULL ''')\\\n",
    "                    .groupBy('card_num',\n",
    "                             'transaction_datetime',\n",
    "                             'status',\n",
    "                             'card_order_dt',\n",
    "                             'url',\n",
    "                             'cookie')\\\n",
    "                    .agg(F.max('amount').alias('amt'))\n",
    "    \n",
    "    \n",
    "    datamart = final_df\\\n",
    "                    .select('card_order_dt',\n",
    "                            'card_num',\n",
    "                            'cookie',\n",
    "                            'url',\n",
    "                            'amt',\n",
    "                            'status')\\\n",
    "                    .withColumn('transaction_level',\n",
    "                                    F.when(F.col('amt') > 300, True).otherwise(False))\\\n",
    "                    .withColumn('status_flag',\n",
    "                                    F.when(F.col('status') == \"выдана\", True).otherwise(False))\\\n",
    "                    .withColumn('partition_date', F.lit(date).cast('string').alias('partition_date'))\\\n",
    "                    .withColumn('load_date', F.lit(date).cast('string').alias('load_date'))\\\n",
    "                    .drop('amt', 'status')\n",
    "    \n",
    "    datamart.write.mode(\"append\").partitionBy('partition_date').csv('data_lake/debit_card', header=True)\n",
    "\n",
    "\n",
    "\n",
    "start = '2024-07-01'\n",
    "end = '2024-07-10'\n",
    "\n",
    "for dt in pd.date_range(start, end):\n",
    "    date = str(dt)[:10]\n",
    "    print(date)\n",
    "    debit_card(date)"
   ]
  },
  {
   "cell_type": "code",
   "execution_count": 107,
   "id": "2d7acd39",
   "metadata": {},
   "outputs": [],
   "source": [
    "PATH = '/home/jovyan/source'\n",
    "date = '2024-07-01'\n",
    "\n",
    "\n",
    "card = spark.read.csv(f\"{PATH}/card.csv\", header=True, sep=\";\")\\\n",
    "            .where(f''' load_date = \"{date}\" ''')\n",
    "\n",
    "status_card = spark.read.csv(f\"{PATH}/Status_card.csv\", header=True, sep=\";\")\\\n",
    "                    .where(f''' load_date = \"{date}\"  ''')\n",
    "\n",
    "transactions = spark.read.csv(f\"{PATH}/transactions.csv\", header=True, sep=\";\")\\\n",
    "                    .where(f''' load_date = \"{date}\"  ''')\n"
   ]
  },
  {
   "cell_type": "code",
   "execution_count": 108,
   "id": "73bf880a",
   "metadata": {},
   "outputs": [
    {
     "name": "stdout",
     "output_type": "stream",
     "text": [
      "+----------------+--------------------+\n",
      "|        card_num|transaction_datetime|\n",
      "+----------------+--------------------+\n",
      "|0119300157687351| 2024-07-02 06:32:10|\n",
      "|0172264584552366| 2024-07-02 11:38:10|\n",
      "|0175736131090843| 2024-07-03 01:00:10|\n",
      "|0243084951118144| 2024-07-02 22:06:10|\n",
      "|0261912375736877| 2024-07-02 20:35:10|\n",
      "|0265281487020131| 2024-07-02 20:16:10|\n",
      "|0273241962063845| 2024-07-02 21:35:10|\n",
      "|0279120596277629| 2024-07-02 18:27:10|\n",
      "|0284862617881895| 2024-07-02 10:19:10|\n",
      "|0330327384276660| 2024-07-02 16:26:10|\n",
      "|0352288633871827| 2024-07-02 02:14:10|\n",
      "|0363957946193526| 2024-07-02 11:24:10|\n",
      "|0385277165882644| 2024-07-02 14:36:10|\n",
      "|0407156816322679| 2024-07-02 05:10:10|\n",
      "|0423001802153299| 2024-07-02 18:37:10|\n",
      "|0458751505613552| 2024-07-02 11:06:10|\n",
      "|0458771495029206| 2024-07-02 23:31:10|\n",
      "|0478546133824549| 2024-07-02 12:32:10|\n",
      "|0484391462295158| 2024-07-02 07:59:10|\n",
      "|0576342477104189| 2024-07-02 14:15:10|\n",
      "+----------------+--------------------+\n",
      "only showing top 20 rows\n",
      "\n"
     ]
    },
    {
     "data": {
      "text/plain": [
       "497"
      ]
     },
     "execution_count": 108,
     "metadata": {},
     "output_type": "execute_result"
    }
   ],
   "source": [
    "first_trx = transactions.groupBy('card_num')\\\n",
    "                        .agg(F.min('transaction_datetime').alias('transaction_datetime'))\n",
    "\n",
    "first_trx.show()\n",
    "\n",
    "first_trx.count()"
   ]
  },
  {
   "cell_type": "code",
   "execution_count": 109,
   "id": "85c3661e",
   "metadata": {},
   "outputs": [
    {
     "name": "stdout",
     "output_type": "stream",
     "text": [
      "+--------+--------------------+------+--------------------+---------+\n",
      "|card_num|transaction_datetime|amount|transaction_datetime|load_date|\n",
      "+--------+--------------------+------+--------------------+---------+\n",
      "+--------+--------------------+------+--------------------+---------+\n",
      "\n"
     ]
    }
   ],
   "source": [
    "first_trx_info = first_trx.join(transactions, 'card_num', 'inner')\n",
    "\n",
    "first_trx_info.where(''' card_num = \"0005538167587579\" ''').show()"
   ]
  },
  {
   "cell_type": "code",
   "execution_count": 110,
   "id": "3b4bcfcd",
   "metadata": {},
   "outputs": [
    {
     "name": "stdout",
     "output_type": "stream",
     "text": [
      "+--------+--------------------+------+---------+\n",
      "|card_num|transaction_datetime|amount|load_date|\n",
      "+--------+--------------------+------+---------+\n",
      "+--------+--------------------+------+---------+\n",
      "\n"
     ]
    }
   ],
   "source": [
    "first_trx = transactions.groupBy('card_num')\\\n",
    "                        .agg(F.min('transaction_datetime').alias('transaction_datetime'))\n",
    "\n",
    "first_trx_info = first_trx.join(transactions, ['card_num','transaction_datetime'], 'inner')\n",
    "          \n",
    "first_trx_info.where(''' card_num = \"0005538167587579\" ''').show()"
   ]
  },
  {
   "cell_type": "code",
   "execution_count": 111,
   "id": "237312a5",
   "metadata": {},
   "outputs": [
    {
     "name": "stdout",
     "output_type": "stream",
     "text": [
      "1003 498\n"
     ]
    }
   ],
   "source": [
    "dt_trx = first_trx_info.select('card_num', 'amount', '*')\n",
    "df_st = status_card.select('card_num', 'card_num_md5', 'status')\n",
    "\n",
    "\n",
    "result_df = dt_trx\\\n",
    "                .join(df_st, \"card_num\", \"inner\")\\\n",
    "                .join(card, \"card_num_md5\", \"right\")\\\n",
    "                .drop('card_num_md5')\n",
    "\n",
    "\n",
    "total_rows = result_df.select('card_num').count()\n",
    "total_unique_rows = result_df.select('card_num').distinct().count()\n",
    "\n",
    "print(total_rows, total_unique_rows)"
   ]
  },
  {
   "cell_type": "code",
   "execution_count": 112,
   "id": "c692be26",
   "metadata": {},
   "outputs": [
    {
     "name": "stdout",
     "output_type": "stream",
     "text": [
      "+--------+------+--------------------+------+---------+------+-------------------+--------------------+----------+----------+\n",
      "|card_num|amount|transaction_datetime|amount|load_date|status|      card_order_dt|                 url|    cookie| load_date|\n",
      "+--------+------+--------------------+------+---------+------+-------------------+--------------------+----------+----------+\n",
      "|    NULL|  NULL|                NULL|  NULL|     NULL|  NULL|2024-07-02 13:37:00|http://example.co...|v0DMPhGJqx|2024-07-02|\n",
      "|    NULL|  NULL|                NULL|  NULL|     NULL|  NULL|2024-07-02 11:02:00|http://example.co...|wXDtAqpNwt|2024-07-02|\n",
      "|    NULL|  NULL|                NULL|  NULL|     NULL|  NULL|2024-07-02 00:36:00|http://example.co...|7CN1gM2wzD|2024-07-02|\n",
      "|    NULL|  NULL|                NULL|  NULL|     NULL|  NULL|2024-07-02 10:18:00|http://example.co...|pt0pHcuymk|2024-07-02|\n",
      "|    NULL|  NULL|                NULL|  NULL|     NULL|  NULL|2024-07-02 03:20:00|http://example.co...|LpSTn3VTaS|2024-07-02|\n",
      "|    NULL|  NULL|                NULL|  NULL|     NULL|  NULL|2024-07-02 08:57:00|http://example.co...|AZDxp5yTzD|2024-07-02|\n",
      "|    NULL|  NULL|                NULL|  NULL|     NULL|  NULL|2024-07-02 07:26:00|http://example.co...|wNLrEjMZd3|2024-07-02|\n",
      "|    NULL|  NULL|                NULL|  NULL|     NULL|  NULL|2024-07-02 12:24:00|http://example.co...|WWRVBOn34s|2024-07-02|\n",
      "|    NULL|  NULL|                NULL|  NULL|     NULL|  NULL|2024-07-02 20:56:00|http://example.co...|uNrvkRLI1G|2024-07-02|\n",
      "|    NULL|  NULL|                NULL|  NULL|     NULL|  NULL|2024-07-02 04:28:00|http://example.co...|s5d0ATwC6y|2024-07-02|\n",
      "|    NULL|  NULL|                NULL|  NULL|     NULL|  NULL|2024-07-02 12:05:00|http://example.co...|S4Gdygg4T2|2024-07-02|\n",
      "|    NULL|  NULL|                NULL|  NULL|     NULL|  NULL|2024-07-02 17:58:00|http://example.co...|H68Trc0bjv|2024-07-02|\n",
      "|    NULL|  NULL|                NULL|  NULL|     NULL|  NULL|2024-07-02 19:27:00|http://example.co...|fwtCwdtKOv|2024-07-02|\n",
      "|    NULL|  NULL|                NULL|  NULL|     NULL|  NULL|2024-07-02 01:12:00|http://example.co...|xCx8FSFjOa|2024-07-02|\n",
      "|    NULL|  NULL|                NULL|  NULL|     NULL|  NULL|2024-07-02 16:47:00|http://example.co...|mCwjXR0OwM|2024-07-02|\n",
      "|    NULL|  NULL|                NULL|  NULL|     NULL|  NULL|2024-07-02 07:42:00|http://example.co...|kAQcFEeWDq|2024-07-02|\n",
      "|    NULL|  NULL|                NULL|  NULL|     NULL|  NULL|2024-07-02 05:29:00|http://example.co...|K7BUYXMQGu|2024-07-02|\n",
      "|    NULL|  NULL|                NULL|  NULL|     NULL|  NULL|2024-07-02 23:39:00|http://example.co...|2hD89jrkXb|2024-07-02|\n",
      "|    NULL|  NULL|                NULL|  NULL|     NULL|  NULL|2024-07-02 11:57:00|http://example.co...|EuHdpgoFF6|2024-07-02|\n",
      "|    NULL|  NULL|                NULL|  NULL|     NULL|  NULL|2024-07-02 11:06:00|http://example.co...|9Zf1o2kJUb|2024-07-02|\n",
      "+--------+------+--------------------+------+---------+------+-------------------+--------------------+----------+----------+\n",
      "only showing top 20 rows\n",
      "\n"
     ]
    }
   ],
   "source": [
    "result_df.where(''' amount IS NULL ''').show()"
   ]
  },
  {
   "cell_type": "code",
   "execution_count": 113,
   "id": "18bb15b7",
   "metadata": {},
   "outputs": [
    {
     "data": {
      "text/plain": [
       "500"
      ]
     },
     "execution_count": 113,
     "metadata": {},
     "output_type": "execute_result"
    }
   ],
   "source": [
    "result_df.where(''' card_num IS NOT NULL  ''').count()"
   ]
  },
  {
   "cell_type": "code",
   "execution_count": 114,
   "id": "6375317b",
   "metadata": {
    "scrolled": true
   },
   "outputs": [
    {
     "name": "stdout",
     "output_type": "stream",
     "text": [
      "+--------+------+--------------------+------+---------+------+-------------+---+------+---------+\n",
      "|card_num|amount|transaction_datetime|amount|load_date|status|card_order_dt|url|cookie|load_date|\n",
      "+--------+------+--------------------+------+---------+------+-------------+---+------+---------+\n",
      "+--------+------+--------------------+------+---------+------+-------------+---+------+---------+\n",
      "\n"
     ]
    }
   ],
   "source": [
    "result_df.where(''' card_num = \"0005538167587579\"  ''').show(truncate=False)"
   ]
  },
  {
   "cell_type": "code",
   "execution_count": 115,
   "id": "0112e176",
   "metadata": {},
   "outputs": [
    {
     "name": "stdout",
     "output_type": "stream",
     "text": [
      "+--------+------+--------------------+------+---------+------+-------------+---+------+---------+\n",
      "|card_num|amount|transaction_datetime|amount|load_date|status|card_order_dt|url|cookie|load_date|\n",
      "+--------+------+--------------------+------+---------+------+-------------+---+------+---------+\n",
      "+--------+------+--------------------+------+---------+------+-------------+---+------+---------+\n",
      "\n"
     ]
    },
    {
     "name": "stderr",
     "output_type": "stream",
     "text": [
      "                                                                                \r"
     ]
    }
   ],
   "source": [
    "result_df.where(''' card_num = \"2070700245113982\"  ''').show(truncate=False)"
   ]
  },
  {
   "cell_type": "code",
   "execution_count": 116,
   "id": "b32dfd48",
   "metadata": {},
   "outputs": [
    {
     "name": "stdout",
     "output_type": "stream",
     "text": [
      "+----------------+--------------------+------+-------------------+-------------------------+----------+------+\n",
      "|card_num        |transaction_datetime|status|card_order_dt      |url                      |cookie    |amt   |\n",
      "+----------------+--------------------+------+-------------------+-------------------------+----------+------+\n",
      "|0119300157687351|2024-07-02 06:32:10 |выдана|2024-07-02 05:56:00|http://example.com/page6 |387PbPJnn6|495.92|\n",
      "|0172264584552366|2024-07-02 11:38:10 |выдана|2024-07-02 10:50:00|http://example.com/page8 |hYNBIsxI3C|127.58|\n",
      "|0175736131090843|2024-07-03 01:00:10 |выдана|2024-07-02 23:35:00|http://example.com/page10|5ik2aVEYrz|230.64|\n",
      "|0243084951118144|2024-07-02 22:06:10 |выдана|2024-07-02 21:06:00|http://example.com/page3 |6yojZuAfOt|124.68|\n",
      "|0261912375736877|2024-07-02 20:35:10 |выдана|2024-07-02 20:10:00|http://example.com/page5 |6Cna4zRUVh|263.69|\n",
      "|0265281487020131|2024-07-02 20:16:10 |выдана|2024-07-02 19:58:00|http://example.com/page6 |uwKtIsrlT9|480.28|\n",
      "|0273241962063845|2024-07-02 21:35:10 |выдана|2024-07-02 21:27:00|http://example.com/page4 |jWAr4JXCd3|325.34|\n",
      "|0279120596277629|2024-07-02 18:27:10 |выдана|2024-07-02 18:04:00|http://example.com/page1 |nsGZREvpQ1|278.21|\n",
      "|0284862617881895|2024-07-02 10:19:10 |выдана|2024-07-02 09:32:00|http://example.com/page9 |cXc1ZGHJl4|96.95 |\n",
      "|0330327384276660|2024-07-02 16:26:10 |выдана|2024-07-02 16:07:00|http://example.com/page7 |pBZwQRglpj|223.21|\n",
      "|0352288633871827|2024-07-02 02:14:10 |выдана|2024-07-02 00:56:00|http://example.com/page1 |S5o8Y6kk2Q|118.83|\n",
      "|0363957946193526|2024-07-02 11:24:10 |выдана|2024-07-02 10:03:00|http://example.com/page4 |DuYhoR7v5y|182.85|\n",
      "|0385277165882644|2024-07-02 14:36:10 |выдана|2024-07-02 14:30:00|http://example.com/page9 |TXR4rHqvji|342.65|\n",
      "|0407156816322679|2024-07-02 05:10:10 |выдана|2024-07-02 04:07:00|http://example.com/page3 |52AQM2FTTX|351.8 |\n",
      "|0423001802153299|2024-07-02 18:37:10 |выдана|2024-07-02 18:19:00|http://example.com/page7 |DrKjHPfdsr|384.68|\n",
      "|0458751505613552|2024-07-02 11:06:10 |выдана|2024-07-02 10:47:00|http://example.com/page2 |hBUGAwRMf9|299.79|\n",
      "|0458771495029206|2024-07-02 23:31:10 |выдана|2024-07-02 23:22:00|http://example.com/page4 |OadbtgOckr|469.6 |\n",
      "|0478546133824549|2024-07-02 12:32:10 |выдана|2024-07-02 12:31:00|http://example.com/page4 |WFryumW7Lz|455.13|\n",
      "|0484391462295158|2024-07-02 07:59:10 |выдана|2024-07-02 07:58:00|http://example.com/page9 |ZRVzQeeUzf|297.16|\n",
      "|0576342477104189|2024-07-02 14:15:10 |выдана|2024-07-02 12:50:00|http://example.com/page4 |WH9178PSHl|287.44|\n",
      "+----------------+--------------------+------+-------------------+-------------------------+----------+------+\n",
      "only showing top 20 rows\n",
      "\n"
     ]
    }
   ],
   "source": [
    "final_df = result_df\\\n",
    "                .where(''' card_num IS NOT NULL ''')\\\n",
    "                .groupBy('card_num',\n",
    "                         'transaction_datetime',\n",
    "                         'status',\n",
    "                         'card_order_dt',\n",
    "                         'url',\n",
    "                         'cookie')\\\n",
    "                .agg(F.max('amount').alias('amt'))\n",
    "\n",
    "final_df.show(truncate=False)"
   ]
  },
  {
   "cell_type": "code",
   "execution_count": 123,
   "id": "f9a3eb10",
   "metadata": {},
   "outputs": [
    {
     "name": "stdout",
     "output_type": "stream",
     "text": [
      "+-------------------+----------------+----------+-------------------------+-----------------+-----------+--------------+----------+\n",
      "|card_order_dt      |card_num        |cookie    |url                      |transaction_level|status_flag|partition_date|load_date |\n",
      "+-------------------+----------------+----------+-------------------------+-----------------+-----------+--------------+----------+\n",
      "|2024-07-02 05:56:00|0119300157687351|387PbPJnn6|http://example.com/page6 |true             |true       |2024-07-02    |2024-07-02|\n",
      "|2024-07-02 10:50:00|0172264584552366|hYNBIsxI3C|http://example.com/page8 |false            |true       |2024-07-02    |2024-07-02|\n",
      "|2024-07-02 23:35:00|0175736131090843|5ik2aVEYrz|http://example.com/page10|false            |true       |2024-07-02    |2024-07-02|\n",
      "|2024-07-02 21:06:00|0243084951118144|6yojZuAfOt|http://example.com/page3 |false            |true       |2024-07-02    |2024-07-02|\n",
      "|2024-07-02 20:10:00|0261912375736877|6Cna4zRUVh|http://example.com/page5 |false            |true       |2024-07-02    |2024-07-02|\n",
      "|2024-07-02 19:58:00|0265281487020131|uwKtIsrlT9|http://example.com/page6 |true             |true       |2024-07-02    |2024-07-02|\n",
      "|2024-07-02 21:27:00|0273241962063845|jWAr4JXCd3|http://example.com/page4 |true             |true       |2024-07-02    |2024-07-02|\n",
      "|2024-07-02 18:04:00|0279120596277629|nsGZREvpQ1|http://example.com/page1 |false            |true       |2024-07-02    |2024-07-02|\n",
      "|2024-07-02 09:32:00|0284862617881895|cXc1ZGHJl4|http://example.com/page9 |false            |true       |2024-07-02    |2024-07-02|\n",
      "|2024-07-02 16:07:00|0330327384276660|pBZwQRglpj|http://example.com/page7 |false            |true       |2024-07-02    |2024-07-02|\n",
      "|2024-07-02 00:56:00|0352288633871827|S5o8Y6kk2Q|http://example.com/page1 |false            |true       |2024-07-02    |2024-07-02|\n",
      "|2024-07-02 10:03:00|0363957946193526|DuYhoR7v5y|http://example.com/page4 |false            |true       |2024-07-02    |2024-07-02|\n",
      "|2024-07-02 14:30:00|0385277165882644|TXR4rHqvji|http://example.com/page9 |true             |true       |2024-07-02    |2024-07-02|\n",
      "|2024-07-02 04:07:00|0407156816322679|52AQM2FTTX|http://example.com/page3 |true             |true       |2024-07-02    |2024-07-02|\n",
      "|2024-07-02 18:19:00|0423001802153299|DrKjHPfdsr|http://example.com/page7 |true             |true       |2024-07-02    |2024-07-02|\n",
      "|2024-07-02 10:47:00|0458751505613552|hBUGAwRMf9|http://example.com/page2 |false            |true       |2024-07-02    |2024-07-02|\n",
      "|2024-07-02 23:22:00|0458771495029206|OadbtgOckr|http://example.com/page4 |true             |true       |2024-07-02    |2024-07-02|\n",
      "|2024-07-02 12:31:00|0478546133824549|WFryumW7Lz|http://example.com/page4 |true             |true       |2024-07-02    |2024-07-02|\n",
      "|2024-07-02 07:58:00|0484391462295158|ZRVzQeeUzf|http://example.com/page9 |false            |true       |2024-07-02    |2024-07-02|\n",
      "|2024-07-02 12:50:00|0576342477104189|WH9178PSHl|http://example.com/page4 |false            |true       |2024-07-02    |2024-07-02|\n",
      "+-------------------+----------------+----------+-------------------------+-----------------+-----------+--------------+----------+\n",
      "only showing top 20 rows\n",
      "\n"
     ]
    }
   ],
   "source": [
    "datamart = final_df\\\n",
    "                .select('card_order_dt',\n",
    "                        'card_num',\n",
    "                        'cookie',\n",
    "                        'url',\n",
    "                        'amt',\n",
    "                        'status')\\\n",
    "                .withColumn('transaction_level',\n",
    "                                F.when(F.col('amt') > 300, True).otherwise(False))\\\n",
    "                .withColumn('status_flag',\n",
    "                                F.when(F.col('status') == \"выдана\", True).otherwise(False))\\\n",
    "                .withColumn('partition_date', F.lit(date).cast('string').alias('partition_date'))\\\n",
    "                .withColumn('load_date', F.lit(date).cast('string').alias('load_date'))\\\n",
    "                .drop('amt', 'status')\n",
    "\n",
    "datamart.show(truncate=False)"
   ]
  },
  {
   "cell_type": "code",
   "execution_count": 118,
   "id": "5658787f-fc0f-4e22-8a57-7213cb44ca62",
   "metadata": {},
   "outputs": [],
   "source": [
    "datamart.write.mode(\"append\").partitionBy('partition_date').csv('data_lake/debit_card', header=True)"
   ]
  },
  {
   "cell_type": "code",
   "execution_count": 142,
   "id": "effa160d-5a66-4bbc-8570-e35bb0c5111f",
   "metadata": {},
   "outputs": [],
   "source": [
    "rm -rf data_lake/debit_card/"
   ]
  },
  {
   "cell_type": "code",
   "execution_count": 124,
   "id": "b453a44a-2383-4468-9689-a3e0cb024023",
   "metadata": {},
   "outputs": [
    {
     "name": "stdout",
     "output_type": "stream",
     "text": [
      "root\n",
      " |-- card_order_dt: string (nullable = true)\n",
      " |-- card_num: string (nullable = true)\n",
      " |-- cookie: string (nullable = true)\n",
      " |-- url: string (nullable = true)\n",
      " |-- transaction_level: boolean (nullable = false)\n",
      " |-- status_flag: boolean (nullable = false)\n",
      " |-- partition_date: string (nullable = false)\n",
      " |-- load_date: string (nullable = false)\n",
      "\n"
     ]
    }
   ],
   "source": [
    "datamart.printSchema()"
   ]
  },
  {
   "cell_type": "code",
   "execution_count": null,
   "id": "7b7fd0a7-fdd3-4a23-91a2-29466fa4cc4b",
   "metadata": {},
   "outputs": [],
   "source": []
  },
  {
   "cell_type": "markdown",
   "id": "e5b9e778",
   "metadata": {},
   "source": [
    "### Check"
   ]
  },
  {
   "cell_type": "code",
   "execution_count": null,
   "id": "7b46ea18-4e32-4aa5-aad9-d5cc617250cb",
   "metadata": {},
   "outputs": [],
   "source": []
  },
  {
   "cell_type": "code",
   "execution_count": 120,
   "id": "d75137fe",
   "metadata": {},
   "outputs": [
    {
     "name": "stdout",
     "output_type": "stream",
     "text": [
      "+----------------+----------+\n",
      "|        card_num|total_rows|\n",
      "+----------------+----------+\n",
      "|2070700245113982|         2|\n",
      "|2262350645675539|         2|\n",
      "|3103433078006244|         2|\n",
      "|4348133075638360|         2|\n",
      "|4544055876664150|         2|\n",
      "|6242600491786411|         2|\n",
      "|7787314985064344|         2|\n",
      "|0005538167587579|         1|\n",
      "|0007178749480464|         1|\n",
      "|0071204528664757|         1|\n",
      "|0089135673710847|         1|\n",
      "|0092333514392220|         1|\n",
      "|0117477741827069|         1|\n",
      "|0123869799811751|         1|\n",
      "|0131542214103394|         1|\n",
      "|0140866230289371|         1|\n",
      "|0153027993228699|         1|\n",
      "|0162240485103303|         1|\n",
      "|0162466916966431|         1|\n",
      "|0192260687950694|         1|\n",
      "+----------------+----------+\n",
      "only showing top 20 rows\n",
      "\n",
      "+----------------+--------------------+------+----------+\n",
      "|        card_num|transaction_datetime|amount| load_date|\n",
      "+----------------+--------------------+------+----------+\n",
      "|2070700245113982| 2024-07-01 09:07:10| 31.11|2024-07-01|\n",
      "|2070700245113982| 2024-07-01 09:07:10|289.34|2024-07-01|\n",
      "+----------------+--------------------+------+----------+\n",
      "\n",
      "+----------------+--------------------+------+--------------------+----------+\n",
      "|        card_num|transaction_datetime|amount|transaction_datetime| load_date|\n",
      "+----------------+--------------------+------+--------------------+----------+\n",
      "|2070700245113982| 2024-07-01 09:07:10| 31.11| 2024-07-01 09:07:10|2024-07-01|\n",
      "|2070700245113982| 2024-07-01 09:07:10|289.34| 2024-07-01 09:07:10|2024-07-01|\n",
      "|2070700245113982| 2024-07-01 09:07:10|117.17| 2024-07-01 10:13:10|2024-07-01|\n",
      "+----------------+--------------------+------+--------------------+----------+\n",
      "\n"
     ]
    }
   ],
   "source": [
    "first_trx_info.select('card_num').groupBy('card_num')\\\n",
    "            .agg(F.count('*').alias(\"total_rows\"))\\\n",
    "            .orderBy(F.col('total_rows').desc()).show()\n",
    "\n",
    "\n",
    "\n",
    "\n",
    "first_trx = transactions.groupBy('card_num')\\\n",
    "                        .agg(F.min('transaction_datetime').alias('transaction_datetime'))\n",
    "\n",
    "first_trx_info = first_trx.join(transactions, ['card_num','transaction_datetime'], 'inner')\n",
    "          \n",
    "first_trx_info.where(''' card_num = \"2070700245113982\" ''').show()\n",
    "\n",
    "\n",
    "\n",
    "first_trx_info = first_trx.join(transactions, 'card_num', 'inner')\n",
    "first_trx_info.where(''' card_num = \"2070700245113982\" ''').show()"
   ]
  }
 ],
 "metadata": {
  "kernelspec": {
   "display_name": "Python 3 (ipykernel)",
   "language": "python",
   "name": "python3"
  },
  "language_info": {
   "codemirror_mode": {
    "name": "ipython",
    "version": 3
   },
   "file_extension": ".py",
   "mimetype": "text/x-python",
   "name": "python",
   "nbconvert_exporter": "python",
   "pygments_lexer": "ipython3",
   "version": "3.11.9"
  }
 },
 "nbformat": 4,
 "nbformat_minor": 5
}
