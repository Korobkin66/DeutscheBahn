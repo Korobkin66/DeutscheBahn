{
 "cells": [
  {
   "cell_type": "code",
   "execution_count": null,
   "id": "a6a44770",
   "metadata": {},
   "outputs": [],
   "source": [
    "import requests\n",
    "import os\n",
    "import sys\n",
    "\n",
    "import findspark\n",
    "findspark.init()\n",
    "findspark.find()\n",
    "\n",
    "import xml.etree.ElementTree as ET\n",
    "\n",
    "import pyspark\n",
    "\n",
    "from pyspark.sql import DataFrame, SparkSession\n",
    "from typing import List\n",
    "import pyspark.sql.types as T\n",
    "import pyspark.sql.functions as F"
   ]
  },
  {
   "cell_type": "code",
   "execution_count": null,
   "id": "c830b712",
   "metadata": {},
   "outputs": [],
   "source": [
    "def fetch_stations():\n",
    "    url = \"https://apis.deutschebahn.com/db-api-marketplace/apis/timetables/v1/station/HH\"\n",
    "    headers = {\n",
    "        \"DB-Client-Id\": \"7b61ee043a945260d2fefbcf867ee8c0\",\n",
    "        \"DB-Api-Key\": \"8f4ad462350ee13f932a3aa4a42663b8\",\n",
    "        \"accept\": \"application/xml\"\n",
    "    }\n",
    "    response = requests.get(url, headers=headers)\n",
    "    return response.text if response.status_code == 200 else None"
   ]
  },
  {
   "cell_type": "code",
   "execution_count": null,
   "id": "e7a39c49",
   "metadata": {},
   "outputs": [],
   "source": [
    "def parse_stations(xml_data):\n",
    "    root = ET.fromstring(xml_data)\n",
    "    # for station in root.findall(\"station\"):\n",
    "    #     yield (\n",
    "    #         station.get(\"meta\"), station.get(\"name\"), station.get(\"eva\"),\n",
    "    #         station.get(\"ds100\"), station.get(\"db\"), station.get(\"creationts\")\n",
    "    #     )\n",
    "\n",
    "    stations = []\n",
    "    for station in root.findall(\"station\"):\n",
    "        stations.append((\n",
    "            station.get(\"meta\"),\n",
    "            station.get(\"name\"),\n",
    "            station.get(\"eva\"),\n",
    "            station.get(\"ds100\"),\n",
    "            station.get(\"db\"),\n",
    "            station.get(\"creationts\")\n",
    "        ))\n",
    "    return stations"
   ]
  },
  {
   "cell_type": "code",
   "execution_count": null,
   "id": "2c525e59",
   "metadata": {},
   "outputs": [],
   "source": [
    "spark= SparkSession \\\n",
    "       .builder \\\n",
    "       .appName(\"Station Patern\") \\\n",
    "       .getOrCreate()"
   ]
  },
  {
   "cell_type": "code",
   "execution_count": null,
   "id": "daff7eb1",
   "metadata": {},
   "outputs": [],
   "source": [
    "# schema = T.StructType([\n",
    "#         T.StructField(\"meta\", T.StringType(), True),\n",
    "#         T.StructField(\"name\", T.StringType(), True),\n",
    "#         T.StructField(\"eva\", T.StringType(), True),\n",
    "#         T.StructField(\"ds100\", T.StringType(), True),\n",
    "#         T.StructField(\"db\", T.StringType(), True),\n",
    "#         T.StructField(\"creationts\", T.StringType(), True)\n",
    "#     ])"
   ]
  },
  {
   "cell_type": "markdown",
   "id": "0a71574f",
   "metadata": {},
   "source": [
    "ЛИБО:"
   ]
  },
  {
   "cell_type": "code",
   "execution_count": null,
   "id": "79539f15",
   "metadata": {},
   "outputs": [],
   "source": [
    "StationDatabase = [('meta',T.StringType()), ('name',T.StringType()), ('eva',T.StringType()),\n",
    "       ('ds100', T.StringType()), ('db', T.StringType()), ('creationts',T.StringType())]\n",
    "\n",
    "schema = T.StructType([T.StructField(el[0], el[1], True) for el in StationDatabase])\n"
   ]
  },
  {
   "cell_type": "code",
   "execution_count": null,
   "id": "15ec6124",
   "metadata": {},
   "outputs": [],
   "source": [
    "stations_xml = fetch_stations()\n",
    "\n",
    "station_rows = parse_stations(stations_xml)\n",
    "\n",
    "df = spark.createDataFrame(station_rows, schema=schema)\n",
    "\n",
    "df.write.mode(\"overwrite\").parquet('/stations')\n",
    "spark.stop()"
   ]
  }
 ],
 "metadata": {
  "kernelspec": {
   "display_name": "venv",
   "language": "python",
   "name": "python3"
  },
  "language_info": {
   "name": "python",
   "version": "3.9.6"
  }
 },
 "nbformat": 4,
 "nbformat_minor": 5
}
