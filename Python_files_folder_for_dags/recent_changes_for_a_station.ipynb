{
 "cells": [
  {
   "cell_type": "code",
   "execution_count": null,
   "id": "a01aa257",
   "metadata": {},
   "outputs": [],
   "source": [
    "import requests\n",
    "from datetime import datetime\n",
    "\n",
    "import sqlite3\n",
    "\n",
    "from pyspark.sql import SparkSession"
   ]
  },
  {
   "cell_type": "code",
   "execution_count": null,
   "id": "dacb5b40",
   "metadata": {},
   "outputs": [],
   "source": [
    "spark= SparkSession \\\n",
    "       .builder \\\n",
    "       .appName(\"Recent Changes Patern\") \\\n",
    "       .getOrCreate()"
   ]
  },
  {
   "cell_type": "code",
   "execution_count": null,
   "id": "faa68d96",
   "metadata": {},
   "outputs": [],
   "source": [
    "url = \"https://apis.deutschebahn.com/db-api-marketplace/apis/timetables/v1/rchg/\"\n",
    "\n",
    "headers = {\n",
    "    \"DB-Client-Id\": \"7b61ee043a945260d2fefbcf867ee8c0\",\n",
    "    \"DB-Api-Key\": \"8f4ad462350ee13f932a3aa4a42663b8\",\n",
    "    \"accept\": \"application/xml\"\n",
    "}\n",
    "\n",
    "df = spark.read.parquet(\"/stations.parquet\") \n",
    "eva_df = df.select(\"eva\").distinct()\n",
    "station_number = [row[\"eva\"] for row in eva_df.collect()]\n",
    "\n",
    "for station in station_number:\n",
    "\n",
    "    response = requests.get(url+station, headers=headers)\n",
    "    folder = '../recent_changes_folder'\n",
    "    dt = datetime.today().strftime('%Y-%m-%d %H:%M:%S')\n",
    "\n",
    "    with open(f'{folder}/rchg-{station}_{dt}.xml', 'wb') as foutput:\n",
    "        foutput.write(response.content)"
   ]
  }
 ],
 "metadata": {
  "language_info": {
   "name": "python"
  }
 },
 "nbformat": 4,
 "nbformat_minor": 5
}
